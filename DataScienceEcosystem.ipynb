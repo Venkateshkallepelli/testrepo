{
 "cells": [
  {
   "cell_type": "markdown",
   "metadata": {},
   "source": [
    "# Data Science Tools and Ecosystem"
   ]
  },
  {
   "cell_type": "markdown",
   "metadata": {},
   "source": [
    "In this notebook, Data Science Tools and Ecosystem are summarized\n",
    "\n",
    "Data science is a one of the most popular courses in now-a-days.It is also a high paying jobs in present world. Job roles of this course includes:- Data Analyst, Data Scientists, Data Engineer ,Data base Adminstrator, Data Architect etc...\n",
    "\n",
    "Data scientists uses data science tools they are in two categories:-\n",
    "1. Open-source tools 2. Commercial tools\n",
    "\n",
    "open-source tools are: MYSQL,Apache Couch DB, Hadoop and more are the data management tools. Apachesuperset,Kibana are data visulization tools. Apache prediction IO,Seldon  and Model DB are the Model deployment and Monitoring tools.\n",
    "\n",
    "Similarly,\n",
    "Commercial tools are: ORACLE DBs, Microsoft SQL server, IBM Db2 are data management tools. Informatica ,IBM, talend are the data integration and transformation tools. Tableau, IBM congnos analytics are some of the data visulization tools.\n"
   ]
  },
  {
   "cell_type": "markdown",
   "metadata": {},
   "source": [
    "__Objectives :__\n",
    "- List popular languages for Data Science are Python,R,Julia, Scala.\n",
    "- Data scientists can use both the open-source and commercial tools for data managment, data integration and transformation,Data Visulization ,Model deployment and monitoring.\n",
    "- Data Science tasks supports the code asset management,data asset management,Development Environments,Execution Environments.\n",
    "- Popular development Enivornment for data science include JupterNotebook and Rstudio.\n",
    "\n"
   ]
  },
  {
   "cell_type": "markdown",
   "metadata": {},
   "source": [
    "Some of the popular languages that Data Scientists use are"
   ]
  },
  {
   "cell_type": "markdown",
   "metadata": {},
   "source": [
    "1. Python\n",
    "2. R\n",
    "3. Julia\n",
    "4. Scala\n",
    "5. Java\n",
    "6. C++"
   ]
  },
  {
   "cell_type": "markdown",
   "metadata": {},
   "source": [
    "Some of the commonly used libraries used by Data Scientists include:\n",
    "1. Scikit-learn\n",
    "2. Pandas\n",
    "3. NumPy\n",
    "4. Matplotlib "
   ]
  },
  {
   "cell_type": "markdown",
   "metadata": {},
   "source": [
    "| Data Science Tools|\n",
    "|-------------------|\n",
    "| Jupyter Notebook|\n",
    "| Rstudio|\n",
    "| GoogleColab|\n",
    "\n"
   ]
  },
  {
   "cell_type": "markdown",
   "metadata": {},
   "source": [
    "### Below are a few examples of evaluating arithmetic expressions in Python\n",
    "- (2+3)\n",
    "- (5-1)\n",
    "- (2+1)*(5-2)\n",
    "- (4/2)\n"
   ]
  },
  {
   "cell_type": "markdown",
   "metadata": {},
   "source": [
    "This a simple arithmetic expression to mutiply then add integers"
   ]
  },
  {
   "cell_type": "code",
   "execution_count": 1,
   "metadata": {
    "tags": []
   },
   "outputs": [
    {
     "data": {
      "text/plain": [
       "17"
      ]
     },
     "execution_count": 1,
     "metadata": {},
     "output_type": "execute_result"
    }
   ],
   "source": [
    "(3*4)+5"
   ]
  },
  {
   "cell_type": "markdown",
   "metadata": {},
   "source": [
    "This will convert 200 minutes to hours by diving by 60"
   ]
  },
  {
   "cell_type": "code",
   "execution_count": 2,
   "metadata": {
    "tags": []
   },
   "outputs": [
    {
     "data": {
      "text/plain": [
       "3.3333333333333335"
      ]
     },
     "execution_count": 2,
     "metadata": {},
     "output_type": "execute_result"
    }
   ],
   "source": [
    "200/60\n"
   ]
  },
  {
   "cell_type": "markdown",
   "metadata": {},
   "source": [
    "## Author\n",
    "Kallepelli Venkatesh"
   ]
  },
  {
   "cell_type": "code",
   "execution_count": null,
   "metadata": {},
   "outputs": [],
   "source": []
  }
 ],
 "metadata": {
  "kernelspec": {
   "display_name": "Python",
   "language": "python",
   "name": "conda-env-python-py"
  },
  "language_info": {
   "codemirror_mode": {
    "name": "ipython",
    "version": 3
   },
   "file_extension": ".py",
   "mimetype": "text/x-python",
   "name": "python",
   "nbconvert_exporter": "python",
   "pygments_lexer": "ipython3",
   "version": "3.7.12"
  }
 },
 "nbformat": 4,
 "nbformat_minor": 4
}
